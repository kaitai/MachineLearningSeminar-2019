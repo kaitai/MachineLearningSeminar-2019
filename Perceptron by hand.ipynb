{
 "cells": [
  {
   "cell_type": "markdown",
   "metadata": {},
   "source": [
    "This Jupyter noteboook works through some version of Rosenblatt's perceptron algorithm \"by hand\". That is, it makes no attempt at efficiency and instead aims for explicitness. The intent is that you can go through and execute the parts of the algorithm and see what's happening.\n",
    "\n",
    "Remember that the perceptron algorithm is a binary classification method."
   ]
  },
  {
   "cell_type": "code",
   "execution_count": 7,
   "metadata": {},
   "outputs": [],
   "source": [
    "import numpy as np\n",
    "import matplotlib.pyplot as plt\n",
    "from numpy.polynomial.polynomial import polyfit"
   ]
  },
  {
   "cell_type": "markdown",
   "metadata": {},
   "source": [
    "Our fake data:"
   ]
  },
  {
   "cell_type": "code",
   "execution_count": 40,
   "metadata": {},
   "outputs": [],
   "source": [
    "X = np.array([[1,1,1],[3,3,1],[1,-1,-1],[-2,1,-1],[2,-3,-1]])\n",
    "#label = [1,1,-1,-1,-1]"
   ]
  },
  {
   "cell_type": "code",
   "execution_count": 41,
   "metadata": {},
   "outputs": [],
   "source": [
    "X_x = X[:,0]\n",
    "X_y = X[:,1]\n",
    "label = X[:,2]"
   ]
  },
  {
   "cell_type": "markdown",
   "metadata": {},
   "source": [
    "Choose initial betas. We're using $f(x,y) = b_0 + b_1*x+b_2*y$, and here graphing $f(x,y)=0$."
   ]
  },
  {
   "cell_type": "code",
   "execution_count": 80,
   "metadata": {},
   "outputs": [],
   "source": [
    "b = [1,1,1]\n",
    "t = np.arange(-2,4)\n",
    "def line_coords(b):\n",
    "    if b[2] != 0:\n",
    "        x = t\n",
    "        y = (-b[0]-b[1]*x)/b[2]\n",
    "        return [x,y]\n",
    "    elif b[1] != 0:\n",
    "        x = -b[0]/b[1]\n",
    "        y = t\n",
    "        return [x,y]\n",
    "    else:\n",
    "        return \"error!\"\n",
    "\n"
   ]
  },
  {
   "cell_type": "code",
   "execution_count": 82,
   "metadata": {},
   "outputs": [
    {
     "data": {
      "image/png": "[encoded data removed]",
      "text/plain": [
       "<Figure size 432x288 with 1 Axes>"
      ]
     },
     "metadata": {
      "needs_background": "light"
     },
     "output_type": "display_data"
    }
   ],
   "source": [
    "def show_me_my_line(b):\n",
    "    plt.scatter(X_x,X_y, c = label)\n",
    "    plt.plot(line_coords(b)[0], line_coords(b)[1], '-')\n",
    "    plt.show()\n",
    "show_me_my_line(b)"
   ]
  },
  {
   "cell_type": "markdown",
   "metadata": {},
   "source": [
    "Clearly this is a terrible separating hyperplane, and clearly the data is separable."
   ]
  },
  {
   "cell_type": "markdown",
   "metadata": {},
   "source": [
    "Now start the perceptron part: we need to evaluate $f(x,y)$ at each point and determine whether the sign matches the labels."
   ]
  },
  {
   "cell_type": "code",
   "execution_count": 99,
   "metadata": {},
   "outputs": [],
   "source": [
    "def hyperplane_function(A,b):\n",
    "    return b[0]+b[1]*A[0]+b[2]*A[1]\n",
    "    \n",
    "def misclassified(A,b):\n",
    "    if np.sign(b[0]+b[1]*A[0]+b[2]*A[1]) == np.sign(A[2]):\n",
    "        return True\n",
    "    else:\n",
    "        return False"
   ]
  },
  {
   "cell_type": "code",
   "execution_count": 106,
   "metadata": {},
   "outputs": [],
   "source": [
    "def misclassified_list(array,b):\n",
    "    return [np.sign(b[0]+b[1]*A[0]+b[2]*A[1]) == np.sign(A[2]) for A in array]"
   ]
  },
  {
   "cell_type": "markdown",
   "metadata": {},
   "source": [
    "We could iterate through all the points in our data set and determine whether or not they are misclassified, or we could just be lazy and stop at the first misclassified point and adjust our b vector using gradient descent. Let's set $\\rho$, the learning rate, then get started:"
   ]
  },
  {
   "cell_type": "code",
   "execution_count": 118,
   "metadata": {},
   "outputs": [],
   "source": [
    "rho = 1"
   ]
  },
  {
   "cell_type": "code",
   "execution_count": 119,
   "metadata": {},
   "outputs": [],
   "source": [
    "misclass_index = [i for i, x in enumerate(misclassified_list(X,b)) if not x]\n",
    "# this gives indices of all the misclassified points given the current b"
   ]
  },
  {
   "cell_type": "code",
   "execution_count": 120,
   "metadata": {},
   "outputs": [
    {
     "data": {
      "text/plain": [
       "array([ 1, -1, -1])"
      ]
     },
     "execution_count": 120,
     "metadata": {},
     "output_type": "execute_result"
    }
   ],
   "source": [
    "X[misclass_index[0]]"
   ]
  },
  {
   "cell_type": "markdown",
   "metadata": {},
   "source": [
    "Recall that to change our b vector given a misclassified point $i$ we update by adjusting $b_0$ to $y_i \\cdot \\rho + b_0$, and then adjusting $b_j$ for $j>0$ to $b_j+ \\rho y_i x_j$ for a datapoint $\\vec{x}$."
   ]
  },
  {
   "cell_type": "code",
   "execution_count": 136,
   "metadata": {},
   "outputs": [],
   "source": [
    "b=b+rho* X[misclass_index[0]][2] *np.array([1,X[misclass_index[0]][0],X[misclass_index[0]][1]])"
   ]
  },
  {
   "cell_type": "markdown",
   "metadata": {},
   "source": [
    "Let's plot the new separating line and evaluate its goodness."
   ]
  },
  {
   "cell_type": "code",
   "execution_count": 141,
   "metadata": {},
   "outputs": [
    {
     "data": {
      "image/png": "[encoded data removed]",
      "text/plain": [
       "<Figure size 432x288 with 1 Axes>"
      ]
     },
     "metadata": {
      "needs_background": "light"
     },
     "output_type": "display_data"
    }
   ],
   "source": [
    "\n",
    "show_me_my_line(b)"
   ]
  },
  {
   "cell_type": "markdown",
   "metadata": {},
   "source": [
    "Still not good for my example. Ok, find the misclassified points, adjust b, and plot again."
   ]
  },
  {
   "cell_type": "code",
   "execution_count": 142,
   "metadata": {},
   "outputs": [
    {
     "data": {
      "image/png": "[encoded data removed]",
      "text/plain": [
       "<Figure size 432x288 with 1 Axes>"
      ]
     },
     "metadata": {
      "needs_background": "light"
     },
     "output_type": "display_data"
    }
   ],
   "source": [
    "misclass_index = [i for i, x in enumerate(misclassified_list(X,b)) if not x]\n",
    "b=b+rho* X[misclass_index[0]][2] *np.array([1,X[misclass_index[0]][0],X[misclass_index[0]][1]])\n",
    "show_me_my_line(b)"
   ]
  },
  {
   "cell_type": "markdown",
   "metadata": {},
   "source": [
    "This is interesting! In my version, I get a line going through several of the points. This doesn't actually classify these points. So let's try again."
   ]
  },
  {
   "cell_type": "code",
   "execution_count": 143,
   "metadata": {},
   "outputs": [
    {
     "data": {
      "image/png": "[encoded data removed]",
      "text/plain": [
       "<Figure size 432x288 with 1 Axes>"
      ]
     },
     "metadata": {
      "needs_background": "light"
     },
     "output_type": "display_data"
    }
   ],
   "source": [
    "misclass_index = [i for i, x in enumerate(misclassified_list(X,b)) if not x]\n",
    "b=b+rho* X[misclass_index[0]][2] *np.array([1,X[misclass_index[0]][0],X[misclass_index[0]][1]])\n",
    "show_me_my_line(b)"
   ]
  },
  {
   "cell_type": "markdown",
   "metadata": {},
   "source": [
    "Now I get a separating line, and the algorithm stops."
   ]
  },
  {
   "cell_type": "markdown",
   "metadata": {},
   "source": [
    "What happens if you change the learning rate or the initial b? Try it."
   ]
  },
  {
   "cell_type": "code",
   "execution_count": null,
   "metadata": {},
   "outputs": [],
   "source": []
  }
 ],
 "metadata": {
  "kernelspec": {
   "display_name": "Python 3",
   "language": "python",
   "name": "python3"
  },
  "language_info": {
   "codemirror_mode": {
    "name": "ipython",
    "version": 3
   },
   "file_extension": ".py",
   "mimetype": "text/x-python",
   "name": "python",
   "nbconvert_exporter": "python",
   "pygments_lexer": "ipython3",
   "version": "3.6.4"
  }
 },
 "nbformat": 4,
 "nbformat_minor": 2
}
