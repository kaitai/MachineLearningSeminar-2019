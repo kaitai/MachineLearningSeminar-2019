{
 "cells": [
  {
   "cell_type": "markdown",
   "metadata": {},
   "source": [
    "Hello, dear reader! This is the third notebook in the Spring 2019 MCFAM math of machine learning seminar at the University of Minnesota. Join us in person in Vincent Hall 301, 1:30-2:30 pm, in March 2019.\n",
    "\n",
    "This notebook addresses logistic regression. Logistic regression is a linear method for binary classification. I think this is funny, because it has 'regression' in the name but is used a lot for classification, and because everyone knows the graph of the sigmoid, which is definitely not linear! So why do we call it a linear method and use it for classification? See below. Also see the uploaded worksheets which lead you through a simple example of logistic regression 'by hand' -- I think it's very illustrative to figure out the basics.\n",
    "\n",
    "\n",
    "This worksheet is copyleft by Kaisa Taipale, 2019, under the GNU Affero GPL."
   ]
  },
  {
   "cell_type": "code",
   "execution_count": 4,
   "metadata": {},
   "outputs": [],
   "source": [
    "# Import all the things\n",
    "import pandas as pd\n",
    "import matplotlib.pyplot as plt\n",
    "%matplotlib inline\n",
    "import numpy as np\n",
    "from sklearn.model_selection import train_test_split\n",
    "from sklearn import tree\n",
    "from sklearn import metrics"
   ]
  },
  {
   "cell_type": "markdown",
   "metadata": {},
   "source": [
    "## Basics on logistic regression\n",
    "\n",
    "Here I'm going to go over what we talked about in person again. This should be useful for people who didn't join us in person, and might be useful for review. This section only discusses binary classification using logistic regression. Moreover, we'll do this in the single-variable case -- one feature variable and one label for each sample.\n",
    "\n",
    "The *sigmoid* curve used in logistic regression has a long history in ecology, population dynamics, and statistics. "
   ]
  },
  {
   "cell_type": "code",
   "execution_count": null,
   "metadata": {},
   "outputs": [],
   "source": [
    "# graph the sigmoid"
   ]
  },
  {
   "cell_type": "code",
   "execution_count": 1,
   "metadata": {},
   "outputs": [],
   "source": [
    "# look, it solves a DE!\n"
   ]
  },
  {
   "cell_type": "markdown",
   "metadata": {},
   "source": [
    "Rather than using its ecological interpretation, we'll use it for probability estimation and classification. The sigmoid curve will allow us to assign a probability of being \"class 0\" or \"class 1\" in our binary classification. Here's a classic picture, if I can manage it:"
   ]
  },
  {
   "cell_type": "code",
   "execution_count": 2,
   "metadata": {},
   "outputs": [],
   "source": [
    "# pic of 000 and 111 and curve"
   ]
  },
  {
   "cell_type": "markdown",
   "metadata": {},
   "source": [
    "We call logistic regression a *linear* method because the part of the model with parameters based on the data is $ \\beta_0 + \\beta_1 x.$ Solve for $\\beta_0 + \\beta_1 x$ and notice that what you end up with on the other side of the equation is $\\log \\frac{p}{1-p}$. We call this the \"log odds\". Note that I'm being a mathematician and to me $\\log$ is base $e$, not base 10 (base 10 is for engineers :) ).\n"
   ]
  },
  {
   "cell_type": "markdown",
   "metadata": {},
   "source": [
    "Let's try logistic regression on an expanded version of the worksheet we did in class. In the seminar I asked people to fit a logistic model to predict heart disease based on the single input of resting heart rate, using data I made up inspired by the Cleveland heart disease data set. In the seminar I asked people to \"eyeball\" a linear regression, a line through the log-odds. With enough nice data, the human eye is pretty decent at fitting a line. We got remarkably consistent results.\n",
    "\n",
    "Here we can use a bigger list of inputs -- many more resting heart rate readings, as well as other variables! I will again take you step by step through the process of constructing the logistic regression model, and after that we'll skip to scikit-learn's implementation. Go to https://archive.ics.uci.edu/ml/datasets/heart+Disease to see the UCI Machine Learning Data Library's discussion of the data; the csv file we'll use here is included in this Github repository."
   ]
  },
  {
   "cell_type": "markdown",
   "metadata": {},
   "source": [
    "Citations for heart disease data: \n",
    "\"The authors of the databases have requested that any publications resulting from the use of the data include the names of the principal investigator responsible for the data collection at each institution. They would be: \n",
    "1. Hungarian Institute of Cardiology. Budapest: Andras Janosi, M.D. \n",
    "2. University Hospital, Zurich, Switzerland: William Steinbrunn, M.D. \n",
    "3. University Hospital, Basel, Switzerland: Matthias Pfisterer, M.D. \n",
    "4. V.A. Medical Center, Long Beach and Cleveland Clinic Foundation:Robert Detrano, M.D., Ph.D.\""
   ]
  },
  {
   "cell_type": "code",
   "execution_count": 17,
   "metadata": {},
   "outputs": [
    {
     "data": {
      "text/html": [
       "<div>\n",
       "<style scoped>\n",
       "    .dataframe tbody tr th:only-of-type {\n",
       "        vertical-align: middle;\n",
       "    }\n",
       "\n",
       "    .dataframe tbody tr th {\n",
       "        vertical-align: top;\n",
       "    }\n",
       "\n",
       "    .dataframe thead th {\n",
       "        text-align: right;\n",
       "    }\n",
       "</style>\n",
       "<table border=\"1\" class=\"dataframe\">\n",
       "  <thead>\n",
       "    <tr style=\"text-align: right;\">\n",
       "      <th></th>\n",
       "      <th>0</th>\n",
       "      <th>1</th>\n",
       "      <th>2</th>\n",
       "      <th>3</th>\n",
       "      <th>4</th>\n",
       "      <th>5</th>\n",
       "      <th>6</th>\n",
       "      <th>7</th>\n",
       "      <th>8</th>\n",
       "      <th>9</th>\n",
       "      <th>10</th>\n",
       "      <th>11</th>\n",
       "      <th>12</th>\n",
       "      <th>13</th>\n",
       "    </tr>\n",
       "  </thead>\n",
       "  <tbody>\n",
       "    <tr>\n",
       "      <th>0</th>\n",
       "      <td>63.0</td>\n",
       "      <td>1.0</td>\n",
       "      <td>1.0</td>\n",
       "      <td>145.0</td>\n",
       "      <td>233.0</td>\n",
       "      <td>1.0</td>\n",
       "      <td>2.0</td>\n",
       "      <td>150.0</td>\n",
       "      <td>0.0</td>\n",
       "      <td>2.3</td>\n",
       "      <td>3.0</td>\n",
       "      <td>0.0</td>\n",
       "      <td>6.0</td>\n",
       "      <td>0</td>\n",
       "    </tr>\n",
       "    <tr>\n",
       "      <th>1</th>\n",
       "      <td>67.0</td>\n",
       "      <td>1.0</td>\n",
       "      <td>4.0</td>\n",
       "      <td>160.0</td>\n",
       "      <td>286.0</td>\n",
       "      <td>0.0</td>\n",
       "      <td>2.0</td>\n",
       "      <td>108.0</td>\n",
       "      <td>1.0</td>\n",
       "      <td>1.5</td>\n",
       "      <td>2.0</td>\n",
       "      <td>3.0</td>\n",
       "      <td>3.0</td>\n",
       "      <td>2</td>\n",
       "    </tr>\n",
       "    <tr>\n",
       "      <th>2</th>\n",
       "      <td>67.0</td>\n",
       "      <td>1.0</td>\n",
       "      <td>4.0</td>\n",
       "      <td>120.0</td>\n",
       "      <td>229.0</td>\n",
       "      <td>0.0</td>\n",
       "      <td>2.0</td>\n",
       "      <td>129.0</td>\n",
       "      <td>1.0</td>\n",
       "      <td>2.6</td>\n",
       "      <td>2.0</td>\n",
       "      <td>2.0</td>\n",
       "      <td>7.0</td>\n",
       "      <td>1</td>\n",
       "    </tr>\n",
       "    <tr>\n",
       "      <th>3</th>\n",
       "      <td>37.0</td>\n",
       "      <td>1.0</td>\n",
       "      <td>3.0</td>\n",
       "      <td>130.0</td>\n",
       "      <td>250.0</td>\n",
       "      <td>0.0</td>\n",
       "      <td>0.0</td>\n",
       "      <td>187.0</td>\n",
       "      <td>0.0</td>\n",
       "      <td>3.5</td>\n",
       "      <td>3.0</td>\n",
       "      <td>0.0</td>\n",
       "      <td>3.0</td>\n",
       "      <td>0</td>\n",
       "    </tr>\n",
       "    <tr>\n",
       "      <th>4</th>\n",
       "      <td>41.0</td>\n",
       "      <td>0.0</td>\n",
       "      <td>2.0</td>\n",
       "      <td>130.0</td>\n",
       "      <td>204.0</td>\n",
       "      <td>0.0</td>\n",
       "      <td>2.0</td>\n",
       "      <td>172.0</td>\n",
       "      <td>0.0</td>\n",
       "      <td>1.4</td>\n",
       "      <td>1.0</td>\n",
       "      <td>0.0</td>\n",
       "      <td>3.0</td>\n",
       "      <td>0</td>\n",
       "    </tr>\n",
       "  </tbody>\n",
       "</table>\n",
       "</div>"
      ],
      "text/plain": [
       "     0    1    2      3      4    5    6      7    8    9    10   11   12  13\n",
       "0  63.0  1.0  1.0  145.0  233.0  1.0  2.0  150.0  0.0  2.3  3.0  0.0  6.0   0\n",
       "1  67.0  1.0  4.0  160.0  286.0  0.0  2.0  108.0  1.0  1.5  2.0  3.0  3.0   2\n",
       "2  67.0  1.0  4.0  120.0  229.0  0.0  2.0  129.0  1.0  2.6  2.0  2.0  7.0   1\n",
       "3  37.0  1.0  3.0  130.0  250.0  0.0  0.0  187.0  0.0  3.5  3.0  0.0  3.0   0\n",
       "4  41.0  0.0  2.0  130.0  204.0  0.0  2.0  172.0  0.0  1.4  1.0  0.0  3.0   0"
      ]
     },
     "execution_count": 17,
     "metadata": {},
     "output_type": "execute_result"
    }
   ],
   "source": [
    "heart_disease = pd.read_csv(\"~/Documents/DataViz/MachineLearningSeminar-2019/processed.cleveland.data.csv\", header=None)\n",
    "\n",
    "heart_disease.head()"
   ]
  },
  {
   "cell_type": "markdown",
   "metadata": {},
   "source": [
    "Note that there are no column names: the first line is values! Because I already know this, I loaded the file with \"header=None\" in my read_csv command. Go look at the data description at https://archive.ics.uci.edu/ml/machine-learning-databases/heart-disease/heart-disease.names : what are all the columns representing? Why does the link say 14 columns but the column count above ends at 13?"
   ]
  },
  {
   "cell_type": "code",
   "execution_count": 37,
   "metadata": {},
   "outputs": [],
   "source": [
    "# I'm going to rename the columns for ease of use later -- and it's easier to name them through read_csv than \"rename\"\n",
    "heart_disease = pd.read_csv(\"~/Documents/DataViz/MachineLearningSeminar-2019/processed.cleveland.data.csv\",\n",
    "names = ['age', 'sex','chest_pain_type','resting_hr', 'chol', 'high_blood_sug','rest_ecg', 'max_hr','exer_angina','hr_curve_peak','st_slope','ca','defect_type','label'])"
   ]
  },
  {
   "cell_type": "code",
   "execution_count": 38,
   "metadata": {},
   "outputs": [
    {
     "data": {
      "text/html": [
       "<div>\n",
       "<style scoped>\n",
       "    .dataframe tbody tr th:only-of-type {\n",
       "        vertical-align: middle;\n",
       "    }\n",
       "\n",
       "    .dataframe tbody tr th {\n",
       "        vertical-align: top;\n",
       "    }\n",
       "\n",
       "    .dataframe thead th {\n",
       "        text-align: right;\n",
       "    }\n",
       "</style>\n",
       "<table border=\"1\" class=\"dataframe\">\n",
       "  <thead>\n",
       "    <tr style=\"text-align: right;\">\n",
       "      <th></th>\n",
       "      <th>age</th>\n",
       "      <th>sex</th>\n",
       "      <th>chest_pain_type</th>\n",
       "      <th>resting_hr</th>\n",
       "      <th>chol</th>\n",
       "      <th>high_blood_sug</th>\n",
       "      <th>rest_ecg</th>\n",
       "      <th>max_hr</th>\n",
       "      <th>exer_angina</th>\n",
       "      <th>hr_curve_peak</th>\n",
       "      <th>st_slope</th>\n",
       "      <th>ca</th>\n",
       "      <th>defect_type</th>\n",
       "      <th>label</th>\n",
       "    </tr>\n",
       "  </thead>\n",
       "  <tbody>\n",
       "    <tr>\n",
       "      <th>0</th>\n",
       "      <td>63.0</td>\n",
       "      <td>1.0</td>\n",
       "      <td>1.0</td>\n",
       "      <td>145.0</td>\n",
       "      <td>233.0</td>\n",
       "      <td>1.0</td>\n",
       "      <td>2.0</td>\n",
       "      <td>150.0</td>\n",
       "      <td>0.0</td>\n",
       "      <td>2.3</td>\n",
       "      <td>3.0</td>\n",
       "      <td>0.0</td>\n",
       "      <td>6.0</td>\n",
       "      <td>0</td>\n",
       "    </tr>\n",
       "    <tr>\n",
       "      <th>1</th>\n",
       "      <td>67.0</td>\n",
       "      <td>1.0</td>\n",
       "      <td>4.0</td>\n",
       "      <td>160.0</td>\n",
       "      <td>286.0</td>\n",
       "      <td>0.0</td>\n",
       "      <td>2.0</td>\n",
       "      <td>108.0</td>\n",
       "      <td>1.0</td>\n",
       "      <td>1.5</td>\n",
       "      <td>2.0</td>\n",
       "      <td>3.0</td>\n",
       "      <td>3.0</td>\n",
       "      <td>2</td>\n",
       "    </tr>\n",
       "    <tr>\n",
       "      <th>2</th>\n",
       "      <td>67.0</td>\n",
       "      <td>1.0</td>\n",
       "      <td>4.0</td>\n",
       "      <td>120.0</td>\n",
       "      <td>229.0</td>\n",
       "      <td>0.0</td>\n",
       "      <td>2.0</td>\n",
       "      <td>129.0</td>\n",
       "      <td>1.0</td>\n",
       "      <td>2.6</td>\n",
       "      <td>2.0</td>\n",
       "      <td>2.0</td>\n",
       "      <td>7.0</td>\n",
       "      <td>1</td>\n",
       "    </tr>\n",
       "    <tr>\n",
       "      <th>3</th>\n",
       "      <td>37.0</td>\n",
       "      <td>1.0</td>\n",
       "      <td>3.0</td>\n",
       "      <td>130.0</td>\n",
       "      <td>250.0</td>\n",
       "      <td>0.0</td>\n",
       "      <td>0.0</td>\n",
       "      <td>187.0</td>\n",
       "      <td>0.0</td>\n",
       "      <td>3.5</td>\n",
       "      <td>3.0</td>\n",
       "      <td>0.0</td>\n",
       "      <td>3.0</td>\n",
       "      <td>0</td>\n",
       "    </tr>\n",
       "    <tr>\n",
       "      <th>4</th>\n",
       "      <td>41.0</td>\n",
       "      <td>0.0</td>\n",
       "      <td>2.0</td>\n",
       "      <td>130.0</td>\n",
       "      <td>204.0</td>\n",
       "      <td>0.0</td>\n",
       "      <td>2.0</td>\n",
       "      <td>172.0</td>\n",
       "      <td>0.0</td>\n",
       "      <td>1.4</td>\n",
       "      <td>1.0</td>\n",
       "      <td>0.0</td>\n",
       "      <td>3.0</td>\n",
       "      <td>0</td>\n",
       "    </tr>\n",
       "  </tbody>\n",
       "</table>\n",
       "</div>"
      ],
      "text/plain": [
       "    age  sex  chest_pain_type  resting_hr   chol  high_blood_sug  rest_ecg  \\\n",
       "0  63.0  1.0              1.0       145.0  233.0             1.0       2.0   \n",
       "1  67.0  1.0              4.0       160.0  286.0             0.0       2.0   \n",
       "2  67.0  1.0              4.0       120.0  229.0             0.0       2.0   \n",
       "3  37.0  1.0              3.0       130.0  250.0             0.0       0.0   \n",
       "4  41.0  0.0              2.0       130.0  204.0             0.0       2.0   \n",
       "\n",
       "   max_hr  exer_angina  hr_curve_peak  st_slope   ca defect_type  label  \n",
       "0   150.0          0.0            2.3       3.0  0.0         6.0      0  \n",
       "1   108.0          1.0            1.5       2.0  3.0         3.0      2  \n",
       "2   129.0          1.0            2.6       2.0  2.0         7.0      1  \n",
       "3   187.0          0.0            3.5       3.0  0.0         3.0      0  \n",
       "4   172.0          0.0            1.4       1.0  0.0         3.0      0  "
      ]
     },
     "execution_count": 38,
     "metadata": {},
     "output_type": "execute_result"
    }
   ],
   "source": [
    "heart_disease.head()"
   ]
  },
  {
   "cell_type": "markdown",
   "metadata": {},
   "source": [
    "Ok. Given all that warmup, I'm going to pick out resting heart rate as our single feature. This is something you can measure at home -- just rest, then count how many times your heart beats in one minute."
   ]
  },
  {
   "cell_type": "markdown",
   "metadata": {},
   "source": [
    "The last column corresponds to heart disease: \"num: diagnosis of heart disease (angiographic disease status)\". Any number greater than or equal to 1 corresponds to some sort of heart disease, so to make this a binary classification problem we can just transform this to 0s and 1s."
   ]
  },
  {
   "cell_type": "code",
   "execution_count": 42,
   "metadata": {},
   "outputs": [],
   "source": [
    "# This hd_label is a dictionary that translates from 0,1,2,3,4 to 0 or 1.\n",
    "hd_label = {0: 0, 1: 1, 2: 1, 3: 1, 4: 1}\n",
    "heart_disease[\"binary_labels\"] = [hd_label[item] for item in heart_disease[\"label\"]]"
   ]
  },
  {
   "cell_type": "markdown",
   "metadata": {},
   "source": [
    "Ok. Now we have features (resting_hr) and labels (binary_labels). Let's graph this very quickly:"
   ]
  },
  {
   "cell_type": "code",
   "execution_count": 44,
   "metadata": {},
   "outputs": [
    {
     "data": {
      "text/plain": [
       "<matplotlib.collections.PathCollection at 0x1a22fc34a8>"
      ]
     },
     "execution_count": 44,
     "metadata": {},
     "output_type": "execute_result"
    },
    {
     "data": {
      "image/png": "[encoded data removed]",
      "text/plain": [
       "<Figure size 432x288 with 1 Axes>"
      ]
     },
     "metadata": {
      "needs_background": "light"
     },
     "output_type": "display_data"
    }
   ],
   "source": [
    "plt.scatter(heart_disease[\"resting_hr\"], heart_disease[\"binary_labels\"])"
   ]
  },
  {
   "cell_type": "markdown",
   "metadata": {},
   "source": [
    "Can we plot the observed probabilities of the resting heart rate measurements? One problem is that if a particular resting heart rate is observed only once, we just get a 1 for its 'observed probability'. So let's bin our data and look at observed probabilities. "
   ]
  },
  {
   "cell_type": "code",
   "execution_count": 72,
   "metadata": {},
   "outputs": [],
   "source": [
    "counts_of_hd = heart_disease.assign(bin=lambda x: pd.cut(x.resting_hr, bins=10)).groupby(['bin'])['binary_labels'].agg(['sum', 'count','mean'])"
   ]
  },
  {
   "cell_type": "code",
   "execution_count": 73,
   "metadata": {},
   "outputs": [
    {
     "data": {
      "text/html": [
       "<div>\n",
       "<style scoped>\n",
       "    .dataframe tbody tr th:only-of-type {\n",
       "        vertical-align: middle;\n",
       "    }\n",
       "\n",
       "    .dataframe tbody tr th {\n",
       "        vertical-align: top;\n",
       "    }\n",
       "\n",
       "    .dataframe thead th {\n",
       "        text-align: right;\n",
       "    }\n",
       "</style>\n",
       "<table border=\"1\" class=\"dataframe\">\n",
       "  <thead>\n",
       "    <tr style=\"text-align: right;\">\n",
       "      <th></th>\n",
       "      <th>sum</th>\n",
       "      <th>count</th>\n",
       "      <th>mean</th>\n",
       "    </tr>\n",
       "    <tr>\n",
       "      <th>bin</th>\n",
       "      <th></th>\n",
       "      <th></th>\n",
       "      <th></th>\n",
       "    </tr>\n",
       "  </thead>\n",
       "  <tbody>\n",
       "    <tr>\n",
       "      <th>(93.894, 104.6]</th>\n",
       "      <td>2</td>\n",
       "      <td>10</td>\n",
       "      <td>0.200000</td>\n",
       "    </tr>\n",
       "    <tr>\n",
       "      <th>(104.6, 115.2]</th>\n",
       "      <td>18</td>\n",
       "      <td>42</td>\n",
       "      <td>0.428571</td>\n",
       "    </tr>\n",
       "    <tr>\n",
       "      <th>(115.2, 125.8]</th>\n",
       "      <td>30</td>\n",
       "      <td>67</td>\n",
       "      <td>0.447761</td>\n",
       "    </tr>\n",
       "    <tr>\n",
       "      <th>(125.8, 136.4]</th>\n",
       "      <td>32</td>\n",
       "      <td>74</td>\n",
       "      <td>0.432432</td>\n",
       "    </tr>\n",
       "    <tr>\n",
       "      <th>(136.4, 147.0]</th>\n",
       "      <td>26</td>\n",
       "      <td>56</td>\n",
       "      <td>0.464286</td>\n",
       "    </tr>\n",
       "    <tr>\n",
       "      <th>(147.0, 157.6]</th>\n",
       "      <td>13</td>\n",
       "      <td>27</td>\n",
       "      <td>0.481481</td>\n",
       "    </tr>\n",
       "    <tr>\n",
       "      <th>(157.6, 168.2]</th>\n",
       "      <td>9</td>\n",
       "      <td>14</td>\n",
       "      <td>0.642857</td>\n",
       "    </tr>\n",
       "    <tr>\n",
       "      <th>(168.2, 178.8]</th>\n",
       "      <td>5</td>\n",
       "      <td>8</td>\n",
       "      <td>0.625000</td>\n",
       "    </tr>\n",
       "    <tr>\n",
       "      <th>(178.8, 189.4]</th>\n",
       "      <td>2</td>\n",
       "      <td>3</td>\n",
       "      <td>0.666667</td>\n",
       "    </tr>\n",
       "    <tr>\n",
       "      <th>(189.4, 200.0]</th>\n",
       "      <td>2</td>\n",
       "      <td>2</td>\n",
       "      <td>1.000000</td>\n",
       "    </tr>\n",
       "  </tbody>\n",
       "</table>\n",
       "</div>"
      ],
      "text/plain": [
       "                 sum  count      mean\n",
       "bin                                  \n",
       "(93.894, 104.6]    2     10  0.200000\n",
       "(104.6, 115.2]    18     42  0.428571\n",
       "(115.2, 125.8]    30     67  0.447761\n",
       "(125.8, 136.4]    32     74  0.432432\n",
       "(136.4, 147.0]    26     56  0.464286\n",
       "(147.0, 157.6]    13     27  0.481481\n",
       "(157.6, 168.2]     9     14  0.642857\n",
       "(168.2, 178.8]     5      8  0.625000\n",
       "(178.8, 189.4]     2      3  0.666667\n",
       "(189.4, 200.0]     2      2  1.000000"
      ]
     },
     "execution_count": 73,
     "metadata": {},
     "output_type": "execute_result"
    }
   ],
   "source": [
    "counts_of_hd"
   ]
  },
  {
   "cell_type": "markdown",
   "metadata": {},
   "source": [
    "Great: the column \"mean\" above is giving the observed probability of heart disease (since we marked used an indicator variable for the presence of heart disease). This can be used for our log odds plot."
   ]
  },
  {
   "cell_type": "code",
   "execution_count": 75,
   "metadata": {},
   "outputs": [
    {
     "data": {
      "text/plain": [
       "bin\n",
       "(93.894, 104.6]   -1.386294\n",
       "(104.6, 115.2]    -0.287682\n",
       "(115.2, 125.8]    -0.209721\n",
       "(125.8, 136.4]    -0.271934\n",
       "(136.4, 147.0]    -0.143101\n",
       "(147.0, 157.6]    -0.074108\n",
       "(157.6, 168.2]     0.587787\n",
       "(168.2, 178.8]     0.510826\n",
       "(178.8, 189.4]     0.693147\n",
       "(189.4, 200.0]          inf\n",
       "Name: log_odds, dtype: float64"
      ]
     },
     "execution_count": 75,
     "metadata": {},
     "output_type": "execute_result"
    }
   ],
   "source": [
    "counts_of_hd[\"log_odds\"] = np.log(counts_of_hd['mean']/(1-counts_of_hd['mean']))\n",
    "counts_of_hd[\"log_odds\"]"
   ]
  },
  {
   "cell_type": "code",
   "execution_count": 80,
   "metadata": {},
   "outputs": [
    {
     "data": {
      "text/plain": [
       "<matplotlib.collections.PathCollection at 0x1a2385b908>"
      ]
     },
     "execution_count": 80,
     "metadata": {},
     "output_type": "execute_result"
    },
    {
     "data": {
      "image/png": "[encoded data removed]",
      "text/plain": [
       "<Figure size 432x288 with 1 Axes>"
      ]
     },
     "metadata": {
      "needs_background": "light"
     },
     "output_type": "display_data"
    }
   ],
   "source": [
    "# I'm just plotting against bin number here -- quick and easy.\n",
    "plt.scatter(x=range(0,10), y=counts_of_hd[\"log_odds\"])"
   ]
  },
  {
   "cell_type": "markdown",
   "metadata": {},
   "source": [
    "Well, not very linear... but it's an exercise. We'll probably find that logistic regression is not a great model."
   ]
  },
  {
   "cell_type": "code",
   "execution_count": 31,
   "metadata": {},
   "outputs": [
    {
     "data": {
      "text/plain": [
       "Text(0.5, 1.0, 'Log Odds Linear Plot')"
      ]
     },
     "execution_count": 31,
     "metadata": {},
     "output_type": "execute_result"
    },
    {
     "data": {
      "image/png": "[encoded data removed]",
      "text/plain": [
       "<Figure size 432x288 with 1 Axes>"
      ]
     },
     "metadata": {
      "needs_background": "light"
     },
     "output_type": "display_data"
    }
   ],
   "source": [
    "# Here's a nice different kind of plot, for fun.\n",
    "import seaborn as sns\n",
    "sns.regplot(x= rest_hr , y= labels, logistic= True).set_title(\"Log Odds Linear Plot\")"
   ]
  },
  {
   "cell_type": "markdown",
   "metadata": {},
   "source": [
    "Let's go to fitting the logistic regression model using sklearn:"
   ]
  },
  {
   "cell_type": "code",
   "execution_count": 90,
   "metadata": {},
   "outputs": [
    {
     "name": "stderr",
     "output_type": "stream",
     "text": [
      "/Users/kaisa/anaconda/envs/py36/lib/python3.6/site-packages/sklearn/linear_model/logistic.py:432: FutureWarning: Default solver will be changed to 'lbfgs' in 0.22. Specify a solver to silence this warning.\n",
      "  FutureWarning)\n"
     ]
    },
    {
     "ename": "ValueError",
     "evalue": "Expected 2D array, got 1D array instead:\narray=[110. 140. 148. 120.  94. 140. 160. 150. 130. 120. 130. 125. 128. 134.\n 132. 138. 160. 130. 123. 170. 120. 132. 178. 150. 130. 165. 120. 102.\n 140. 140. 150. 115. 138. 110. 108. 145. 110. 138. 156. 200. 142. 138.\n 138. 128. 130. 132. 100. 118. 130. 110. 130. 144. 128. 120. 110. 130.\n 120. 146. 130. 140. 130. 134. 112. 148. 145. 126. 110. 125. 100. 130.\n 152. 140. 130. 120. 136. 120. 130. 122. 130. 170. 126. 108. 140. 150.\n 132. 125. 129. 104. 160. 134. 128. 135. 140. 180. 114. 122. 120. 125.\n 110. 150. 130. 120. 128. 120. 138. 130. 150. 120. 152. 110. 170. 125.\n 132. 110. 124. 145. 140. 130. 134. 160. 120. 128. 122. 150. 120. 140.\n 108. 112. 152. 130. 100. 128. 138. 158. 120. 130. 106. 140. 120. 112.\n 150. 140. 140. 140. 120. 136. 130. 138. 120. 152. 120. 122. 135. 112.\n 138. 112. 105. 124. 192. 130. 140. 155.  94. 140. 105. 180. 110. 112.\n 120. 125. 140. 117. 118. 108. 130. 105. 152. 164. 120. 150. 120. 125.\n 130. 120. 135. 118. 132. 115. 100. 112. 101. 160. 160. 112. 130. 130.\n 130. 120. 110. 118. 172. 140. 110. 110. 140. 120. 110. 128. 140. 130.\n 130. 150. 160. 140. 140. 120. 150. 120. 108. 138. 150. 140. 130. 150.\n 145. 128. 180. 140. 140. 130. 110. 135. 124. 142. 110. 150. 120. 120.\n 130. 134. 102. 118.].\nReshape your data either using array.reshape(-1, 1) if your data has a single feature or array.reshape(1, -1) if it contains a single sample.",
     "output_type": "error",
     "traceback": [
      "\u001b[0;31m---------------------------------------------------------------------------\u001b[0m",
      "\u001b[0;31mValueError\u001b[0m                                Traceback (most recent call last)",
      "\u001b[0;32m<ipython-input-90-13e4a45d0c0b>\u001b[0m in \u001b[0;36m<module>\u001b[0;34m\u001b[0m\n\u001b[1;32m      4\u001b[0m \u001b[0;34m\u001b[0m\u001b[0m\n\u001b[1;32m      5\u001b[0m \u001b[0mX_train\u001b[0m\u001b[0;34m,\u001b[0m \u001b[0mX_test\u001b[0m\u001b[0;34m,\u001b[0m \u001b[0my_train\u001b[0m\u001b[0;34m,\u001b[0m \u001b[0my_test\u001b[0m \u001b[0;34m=\u001b[0m \u001b[0mtrain_test_split\u001b[0m\u001b[0;34m(\u001b[0m\u001b[0mX\u001b[0m\u001b[0;34m,\u001b[0m \u001b[0my\u001b[0m\u001b[0;34m,\u001b[0m \u001b[0mtest_size\u001b[0m\u001b[0;34m=\u001b[0m\u001b[0;36m0.2\u001b[0m\u001b[0;34m,\u001b[0m \u001b[0mrandom_state\u001b[0m\u001b[0;34m=\u001b[0m\u001b[0;36m13249\u001b[0m\u001b[0;34m)\u001b[0m\u001b[0;34m\u001b[0m\u001b[0m\n\u001b[0;32m----> 6\u001b[0;31m \u001b[0mclf\u001b[0m \u001b[0;34m=\u001b[0m \u001b[0mLogisticRegression\u001b[0m\u001b[0;34m(\u001b[0m\u001b[0mrandom_state\u001b[0m\u001b[0;34m=\u001b[0m\u001b[0;36m0\u001b[0m\u001b[0;34m)\u001b[0m\u001b[0;34m.\u001b[0m\u001b[0mfit\u001b[0m\u001b[0;34m(\u001b[0m\u001b[0mX_train\u001b[0m\u001b[0;34m,\u001b[0m \u001b[0my_test\u001b[0m\u001b[0;34m)\u001b[0m\u001b[0;34m\u001b[0m\u001b[0m\n\u001b[0m",
      "\u001b[0;32m~/anaconda/envs/py36/lib/python3.6/site-packages/sklearn/linear_model/logistic.py\u001b[0m in \u001b[0;36mfit\u001b[0;34m(self, X, y, sample_weight)\u001b[0m\n\u001b[1;32m   1282\u001b[0m \u001b[0;34m\u001b[0m\u001b[0m\n\u001b[1;32m   1283\u001b[0m         X, y = check_X_y(X, y, accept_sparse='csr', dtype=_dtype, order=\"C\",\n\u001b[0;32m-> 1284\u001b[0;31m                          accept_large_sparse=solver != 'liblinear')\n\u001b[0m\u001b[1;32m   1285\u001b[0m         \u001b[0mcheck_classification_targets\u001b[0m\u001b[0;34m(\u001b[0m\u001b[0my\u001b[0m\u001b[0;34m)\u001b[0m\u001b[0;34m\u001b[0m\u001b[0m\n\u001b[1;32m   1286\u001b[0m         \u001b[0mself\u001b[0m\u001b[0;34m.\u001b[0m\u001b[0mclasses_\u001b[0m \u001b[0;34m=\u001b[0m \u001b[0mnp\u001b[0m\u001b[0;34m.\u001b[0m\u001b[0munique\u001b[0m\u001b[0;34m(\u001b[0m\u001b[0my\u001b[0m\u001b[0;34m)\u001b[0m\u001b[0;34m\u001b[0m\u001b[0m\n",
      "\u001b[0;32m~/anaconda/envs/py36/lib/python3.6/site-packages/sklearn/utils/validation.py\u001b[0m in \u001b[0;36mcheck_X_y\u001b[0;34m(X, y, accept_sparse, accept_large_sparse, dtype, order, copy, force_all_finite, ensure_2d, allow_nd, multi_output, ensure_min_samples, ensure_min_features, y_numeric, warn_on_dtype, estimator)\u001b[0m\n\u001b[1;32m    745\u001b[0m                     \u001b[0mensure_min_features\u001b[0m\u001b[0;34m=\u001b[0m\u001b[0mensure_min_features\u001b[0m\u001b[0;34m,\u001b[0m\u001b[0;34m\u001b[0m\u001b[0m\n\u001b[1;32m    746\u001b[0m                     \u001b[0mwarn_on_dtype\u001b[0m\u001b[0;34m=\u001b[0m\u001b[0mwarn_on_dtype\u001b[0m\u001b[0;34m,\u001b[0m\u001b[0;34m\u001b[0m\u001b[0m\n\u001b[0;32m--> 747\u001b[0;31m                     estimator=estimator)\n\u001b[0m\u001b[1;32m    748\u001b[0m     \u001b[0;32mif\u001b[0m \u001b[0mmulti_output\u001b[0m\u001b[0;34m:\u001b[0m\u001b[0;34m\u001b[0m\u001b[0m\n\u001b[1;32m    749\u001b[0m         y = check_array(y, 'csr', force_all_finite=True, ensure_2d=False,\n",
      "\u001b[0;32m~/anaconda/envs/py36/lib/python3.6/site-packages/sklearn/utils/validation.py\u001b[0m in \u001b[0;36mcheck_array\u001b[0;34m(array, accept_sparse, accept_large_sparse, dtype, order, copy, force_all_finite, ensure_2d, allow_nd, ensure_min_samples, ensure_min_features, warn_on_dtype, estimator)\u001b[0m\n\u001b[1;32m    545\u001b[0m                     \u001b[0;34m\"Reshape your data either using array.reshape(-1, 1) if \"\u001b[0m\u001b[0;34m\u001b[0m\u001b[0m\n\u001b[1;32m    546\u001b[0m                     \u001b[0;34m\"your data has a single feature or array.reshape(1, -1) \"\u001b[0m\u001b[0;34m\u001b[0m\u001b[0m\n\u001b[0;32m--> 547\u001b[0;31m                     \"if it contains a single sample.\".format(array))\n\u001b[0m\u001b[1;32m    548\u001b[0m \u001b[0;34m\u001b[0m\u001b[0m\n\u001b[1;32m    549\u001b[0m         \u001b[0;31m# in the future np.flexible dtypes will be handled like object dtypes\u001b[0m\u001b[0;34m\u001b[0m\u001b[0;34m\u001b[0m\u001b[0m\n",
      "\u001b[0;31mValueError\u001b[0m: Expected 2D array, got 1D array instead:\narray=[110. 140. 148. 120.  94. 140. 160. 150. 130. 120. 130. 125. 128. 134.\n 132. 138. 160. 130. 123. 170. 120. 132. 178. 150. 130. 165. 120. 102.\n 140. 140. 150. 115. 138. 110. 108. 145. 110. 138. 156. 200. 142. 138.\n 138. 128. 130. 132. 100. 118. 130. 110. 130. 144. 128. 120. 110. 130.\n 120. 146. 130. 140. 130. 134. 112. 148. 145. 126. 110. 125. 100. 130.\n 152. 140. 130. 120. 136. 120. 130. 122. 130. 170. 126. 108. 140. 150.\n 132. 125. 129. 104. 160. 134. 128. 135. 140. 180. 114. 122. 120. 125.\n 110. 150. 130. 120. 128. 120. 138. 130. 150. 120. 152. 110. 170. 125.\n 132. 110. 124. 145. 140. 130. 134. 160. 120. 128. 122. 150. 120. 140.\n 108. 112. 152. 130. 100. 128. 138. 158. 120. 130. 106. 140. 120. 112.\n 150. 140. 140. 140. 120. 136. 130. 138. 120. 152. 120. 122. 135. 112.\n 138. 112. 105. 124. 192. 130. 140. 155.  94. 140. 105. 180. 110. 112.\n 120. 125. 140. 117. 118. 108. 130. 105. 152. 164. 120. 150. 120. 125.\n 130. 120. 135. 118. 132. 115. 100. 112. 101. 160. 160. 112. 130. 130.\n 130. 120. 110. 118. 172. 140. 110. 110. 140. 120. 110. 128. 140. 130.\n 130. 150. 160. 140. 140. 120. 150. 120. 108. 138. 150. 140. 130. 150.\n 145. 128. 180. 140. 140. 130. 110. 135. 124. 142. 110. 150. 120. 120.\n 130. 134. 102. 118.].\nReshape your data either using array.reshape(-1, 1) if your data has a single feature or array.reshape(1, -1) if it contains a single sample."
     ]
    }
   ],
   "source": [
    "from sklearn.linear_model import LogisticRegression\n",
    "X = heart_disease[\"resting_hr\"]\n",
    "y = heart_disease['binary_labels']\n",
    "\n",
    "X_train, X_test, y_train, y_test = train_test_split(X, y, test_size=0.2, random_state=13249)\n",
    "clf = LogisticRegression(random_state=0).fit(X_train, y_test)"
   ]
  },
  {
   "cell_type": "markdown",
   "metadata": {},
   "source": [
    "Oh no, a warning/error! Fortunately the message at the bottom tells us exactly what to do. Make our input an array and reshape it."
   ]
  },
  {
   "cell_type": "code",
   "execution_count": 87,
   "metadata": {},
   "outputs": [
    {
     "name": "stderr",
     "output_type": "stream",
     "text": [
      "/Users/kaisa/anaconda/envs/py36/lib/python3.6/site-packages/sklearn/linear_model/logistic.py:432: FutureWarning: Default solver will be changed to 'lbfgs' in 0.22. Specify a solver to silence this warning.\n",
      "  FutureWarning)\n"
     ]
    }
   ],
   "source": [
    "X = np.array(heart_disease[\"resting_hr\"]).reshape(-1,1)\n",
    "y = heart_disease['binary_labels']\n",
    "\n",
    "X_train, X_test, y_train, y_test = train_test_split(X, y, test_size=0.2, random_state=13249)\n",
    "clf = LogisticRegression(random_state=0).fit(X_train, y_test)\n",
    "clf = LogisticRegression(random_state=0).fit(X, y)"
   ]
  },
  {
   "cell_type": "code",
   "execution_count": 89,
   "metadata": {},
   "outputs": [
    {
     "data": {
      "text/plain": [
       "array([[145.],\n",
       "       [160.],\n",
       "       [120.],\n",
       "       [130.],\n",
       "       [130.],\n",
       "       [120.],\n",
       "       [140.],\n",
       "       [120.],\n",
       "       [130.],\n",
       "       [140.],\n",
       "       [140.],\n",
       "       [140.],\n",
       "       [130.],\n",
       "       [120.],\n",
       "       [172.],\n",
       "       [150.],\n",
       "       [110.],\n",
       "       [140.],\n",
       "       [130.],\n",
       "       [130.],\n",
       "       [110.],\n",
       "       [150.],\n",
       "       [120.],\n",
       "       [132.],\n",
       "       [130.],\n",
       "       [120.],\n",
       "       [120.],\n",
       "       [150.],\n",
       "       [150.],\n",
       "       [110.],\n",
       "       [140.],\n",
       "       [117.],\n",
       "       [140.],\n",
       "       [135.],\n",
       "       [130.],\n",
       "       [140.],\n",
       "       [120.],\n",
       "       [150.],\n",
       "       [132.],\n",
       "       [150.],\n",
       "       [150.],\n",
       "       [140.],\n",
       "       [160.],\n",
       "       [150.],\n",
       "       [130.],\n",
       "       [112.],\n",
       "       [110.],\n",
       "       [150.],\n",
       "       [140.],\n",
       "       [130.],\n",
       "       [105.],\n",
       "       [120.],\n",
       "       [112.],\n",
       "       [130.],\n",
       "       [130.],\n",
       "       [124.],\n",
       "       [140.],\n",
       "       [110.],\n",
       "       [125.],\n",
       "       [125.],\n",
       "       [130.],\n",
       "       [142.],\n",
       "       [128.],\n",
       "       [135.],\n",
       "       [120.],\n",
       "       [145.],\n",
       "       [140.],\n",
       "       [150.],\n",
       "       [170.],\n",
       "       [150.],\n",
       "       [155.],\n",
       "       [125.],\n",
       "       [120.],\n",
       "       [110.],\n",
       "       [110.],\n",
       "       [160.],\n",
       "       [125.],\n",
       "       [140.],\n",
       "       [130.],\n",
       "       [150.],\n",
       "       [104.],\n",
       "       [130.],\n",
       "       [140.],\n",
       "       [180.],\n",
       "       [120.],\n",
       "       [140.],\n",
       "       [138.],\n",
       "       [128.],\n",
       "       [138.],\n",
       "       [130.],\n",
       "       [120.],\n",
       "       [160.],\n",
       "       [130.],\n",
       "       [108.],\n",
       "       [135.],\n",
       "       [128.],\n",
       "       [110.],\n",
       "       [150.],\n",
       "       [134.],\n",
       "       [122.],\n",
       "       [115.],\n",
       "       [118.],\n",
       "       [128.],\n",
       "       [110.],\n",
       "       [120.],\n",
       "       [108.],\n",
       "       [140.],\n",
       "       [128.],\n",
       "       [120.],\n",
       "       [118.],\n",
       "       [145.],\n",
       "       [125.],\n",
       "       [118.],\n",
       "       [132.],\n",
       "       [130.],\n",
       "       [135.],\n",
       "       [140.],\n",
       "       [138.],\n",
       "       [130.],\n",
       "       [135.],\n",
       "       [130.],\n",
       "       [150.],\n",
       "       [100.],\n",
       "       [140.],\n",
       "       [138.],\n",
       "       [130.],\n",
       "       [200.],\n",
       "       [110.],\n",
       "       [120.],\n",
       "       [124.],\n",
       "       [120.],\n",
       "       [ 94.],\n",
       "       [130.],\n",
       "       [140.],\n",
       "       [122.],\n",
       "       [135.],\n",
       "       [145.],\n",
       "       [120.],\n",
       "       [120.],\n",
       "       [125.],\n",
       "       [140.],\n",
       "       [170.],\n",
       "       [128.],\n",
       "       [125.],\n",
       "       [105.],\n",
       "       [108.],\n",
       "       [165.],\n",
       "       [112.],\n",
       "       [128.],\n",
       "       [102.],\n",
       "       [152.],\n",
       "       [102.],\n",
       "       [115.],\n",
       "       [160.],\n",
       "       [120.],\n",
       "       [130.],\n",
       "       [140.],\n",
       "       [125.],\n",
       "       [140.],\n",
       "       [118.],\n",
       "       [101.],\n",
       "       [125.],\n",
       "       [110.],\n",
       "       [100.],\n",
       "       [124.],\n",
       "       [132.],\n",
       "       [138.],\n",
       "       [132.],\n",
       "       [126.],\n",
       "       [112.],\n",
       "       [160.],\n",
       "       [142.],\n",
       "       [174.],\n",
       "       [140.],\n",
       "       [145.],\n",
       "       [152.],\n",
       "       [108.],\n",
       "       [132.],\n",
       "       [130.],\n",
       "       [130.],\n",
       "       [124.],\n",
       "       [134.],\n",
       "       [148.],\n",
       "       [178.],\n",
       "       [158.],\n",
       "       [140.],\n",
       "       [120.],\n",
       "       [160.],\n",
       "       [192.],\n",
       "       [140.],\n",
       "       [129.],\n",
       "       [140.],\n",
       "       [132.],\n",
       "       [138.],\n",
       "       [120.],\n",
       "       [100.],\n",
       "       [160.],\n",
       "       [138.],\n",
       "       [120.],\n",
       "       [160.],\n",
       "       [110.],\n",
       "       [180.],\n",
       "       [150.],\n",
       "       [140.],\n",
       "       [110.],\n",
       "       [142.],\n",
       "       [128.],\n",
       "       [144.],\n",
       "       [130.],\n",
       "       [150.],\n",
       "       [120.],\n",
       "       [120.],\n",
       "       [130.],\n",
       "       [178.],\n",
       "       [112.],\n",
       "       [120.],\n",
       "       [105.],\n",
       "       [138.],\n",
       "       [130.],\n",
       "       [138.],\n",
       "       [112.],\n",
       "       [108.],\n",
       "       [ 94.],\n",
       "       [123.],\n",
       "       [108.],\n",
       "       [118.],\n",
       "       [112.],\n",
       "       [152.],\n",
       "       [110.],\n",
       "       [112.],\n",
       "       [136.],\n",
       "       [180.],\n",
       "       [118.],\n",
       "       [120.],\n",
       "       [160.],\n",
       "       [122.],\n",
       "       [130.],\n",
       "       [120.],\n",
       "       [134.],\n",
       "       [120.],\n",
       "       [110.],\n",
       "       [126.],\n",
       "       [130.],\n",
       "       [134.],\n",
       "       [120.],\n",
       "       [120.],\n",
       "       [100.],\n",
       "       [110.],\n",
       "       [125.],\n",
       "       [128.],\n",
       "       [110.],\n",
       "       [146.],\n",
       "       [128.],\n",
       "       [120.],\n",
       "       [115.],\n",
       "       [120.],\n",
       "       [106.],\n",
       "       [140.],\n",
       "       [156.],\n",
       "       [124.],\n",
       "       [118.],\n",
       "       [136.],\n",
       "       [150.],\n",
       "       [120.],\n",
       "       [138.],\n",
       "       [136.],\n",
       "       [128.],\n",
       "       [126.],\n",
       "       [152.],\n",
       "       [130.],\n",
       "       [140.],\n",
       "       [160.],\n",
       "       [140.],\n",
       "       [112.],\n",
       "       [134.],\n",
       "       [170.],\n",
       "       [146.],\n",
       "       [138.],\n",
       "       [154.],\n",
       "       [130.],\n",
       "       [110.],\n",
       "       [130.],\n",
       "       [128.],\n",
       "       [122.],\n",
       "       [148.],\n",
       "       [114.],\n",
       "       [170.],\n",
       "       [125.],\n",
       "       [130.],\n",
       "       [120.],\n",
       "       [152.],\n",
       "       [132.],\n",
       "       [120.],\n",
       "       [140.],\n",
       "       [124.],\n",
       "       [120.],\n",
       "       [164.],\n",
       "       [140.],\n",
       "       [110.],\n",
       "       [144.],\n",
       "       [130.],\n",
       "       [130.],\n",
       "       [138.]])"
      ]
     },
     "execution_count": 89,
     "metadata": {},
     "output_type": "execute_result"
    }
   ],
   "source": []
  },
  {
   "cell_type": "code",
   "execution_count": null,
   "metadata": {},
   "outputs": [],
   "source": []
  }
 ],
 "metadata": {
  "kernelspec": {
   "display_name": "Python 3",
   "language": "python",
   "name": "python3"
  },
  "language_info": {
   "codemirror_mode": {
    "name": "ipython",
    "version": 3
   },
   "file_extension": ".py",
   "mimetype": "text/x-python",
   "name": "python",
   "nbconvert_exporter": "python",
   "pygments_lexer": "ipython3",
   "version": "3.6.4"
  }
 },
 "nbformat": 4,
 "nbformat_minor": 2
}
