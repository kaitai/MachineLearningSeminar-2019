{
 "cells": [
  {
   "cell_type": "markdown",
   "metadata": {},
   "source": [
    "Hello, dear reader! This is the fourth notebook in the Spring 2019 MCFAM math of machine learning seminar at the University of Minnesota. Join us in person in Vincent Hall 301, 1:30-2:30 pm, in March 2019.\n",
    "\n",
    "This notebook addresses support vector machines. Support vector machines are cool because they encompass both linear and nonlinear-ish methods of classification -- the basic version is the \"separating hyperplane,\" which looks for an error-minimizing hyperplane separating two classes, as the name implies, and then one can expand to using 'polynomial kernels' to in effect add a dimension to the data so that a hyperplane can still be used to separate the classes. As with logistic regression, even though the initial technique is for binary classification, support vector machines can be extended to multi-label classification.\n",
    "\n",
    "The \"support vector\" part of the name will be described in our discussion of separating hyperplanes. The \"machine\" in the name is just there to sound cool, as far as I can tell.\n",
    "\n",
    "\n",
    "This worksheet is copyleft by Kaisa Taipale, 2019, under the GNU Affero GPL."
   ]
  },
  {
   "cell_type": "code",
   "execution_count": null,
   "metadata": {},
   "outputs": [],
   "source": [
    "# Import all the things\n",
    "import pandas as pd\n",
    "import matplotlib.pyplot as plt\n",
    "%matplotlib inline\n",
    "import numpy as np\n",
    "from sklearn.model_selection import train_test_split\n",
    "from sklearn import tree\n",
    "from sklearn import metrics"
   ]
  },
  {
   "cell_type": "markdown",
   "metadata": {},
   "source": [
    "## Separating hyperplane\n",
    "\n",
    "First, the separating hyperplane. Read section 4.5 of \"Elements of Statistical Learning\" for a very useful discussion."
   ]
  },
  {
   "cell_type": "code",
   "execution_count": null,
   "metadata": {},
   "outputs": [],
   "source": []
  }
 ],
 "metadata": {
  "kernelspec": {
   "display_name": "Python 3",
   "language": "python",
   "name": "python3"
  },
  "language_info": {
   "codemirror_mode": {
    "name": "ipython",
    "version": 3
   },
   "file_extension": ".py",
   "mimetype": "text/x-python",
   "name": "python",
   "nbconvert_exporter": "python",
   "pygments_lexer": "ipython3",
   "version": "3.6.4"
  }
 },
 "nbformat": 4,
 "nbformat_minor": 2
}
